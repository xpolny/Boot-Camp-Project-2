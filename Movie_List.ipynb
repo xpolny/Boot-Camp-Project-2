{
 "cells": [
  {
   "cell_type": "code",
   "execution_count": 1,
   "id": "6d44c4e2",
   "metadata": {},
   "outputs": [
    {
     "name": "stderr",
     "output_type": "stream",
     "text": [
      "\n",
      "\n",
      "====== WebDriver manager ======\n",
      "Current google-chrome version is 100.0.4896\n",
      "Get LATEST chromedriver version for 100.0.4896 google-chrome\n",
      "There is no [mac64] chromedriver for browser 100.0.4896 in cache\n",
      "Trying to download new driver from https://chromedriver.storage.googleapis.com/100.0.4896.60/chromedriver_mac64.zip\n",
      "Driver has been saved in cache [/Users/xanderpolny1/.wdm/drivers/chromedriver/mac64/100.0.4896.60]\n"
     ]
    }
   ],
   "source": [
    "from splinter import Browser\n",
    "from bs4 import BeautifulSoup\n",
    "from webdriver_manager.chrome import ChromeDriverManager\n",
    "import pandas as pd\n",
    "\n",
    "executable_path = {'executable_path': ChromeDriverManager().install()}\n",
    "browser = Browser('chrome', **executable_path, headless=False)"
   ]
  },
  {
   "cell_type": "code",
   "execution_count": 2,
   "id": "8e9bd7dd",
   "metadata": {},
   "outputs": [],
   "source": [
    "url = 'https://www.rottentomatoes.com/browse/dvd-streaming-all?minTomato=0&maxTomato=100&services=amazon;hbo_go;itunes;netflix_iw;vudu;amazon_prime;fandango_now&genres=1;2;4;5;6;8;9;10;11;13;18;14&sortBy=release'\n",
    "browser.visit(url)"
   ]
  },
  {
   "cell_type": "code",
   "execution_count": 3,
   "id": "39911ce9",
   "metadata": {},
   "outputs": [],
   "source": [
    "html = browser.html\n",
    "soup = BeautifulSoup(html, 'html.parser')"
   ]
  },
  {
   "cell_type": "code",
   "execution_count": 5,
   "id": "c9262a5a",
   "metadata": {},
   "outputs": [],
   "source": [
    "movie_list = soup.find_all(\"div\",class_=\"mb-movie\")"
   ]
  },
  {
   "cell_type": "code",
   "execution_count": 6,
   "id": "05597c67",
   "metadata": {},
   "outputs": [
    {
     "data": {
      "text/plain": [
       "32"
      ]
     },
     "execution_count": 6,
     "metadata": {},
     "output_type": "execute_result"
    }
   ],
   "source": [
    "len (movie_list)"
   ]
  },
  {
   "cell_type": "code",
   "execution_count": 9,
   "id": "be7257cc",
   "metadata": {},
   "outputs": [
    {
     "data": {
      "text/plain": [
       "'Hurt'"
      ]
     },
     "execution_count": 9,
     "metadata": {},
     "output_type": "execute_result"
    }
   ],
   "source": [
    "movie_list[0].find(\"h3\",class_=\"movieTitle\").text"
   ]
  },
  {
   "cell_type": "code",
   "execution_count": 11,
   "id": "dada3cfc",
   "metadata": {},
   "outputs": [
    {
     "data": {
      "text/plain": [
       "'67%'"
      ]
     },
     "execution_count": 11,
     "metadata": {},
     "output_type": "execute_result"
    }
   ],
   "source": [
    "movie_list[0].find(\"span\",class_=\"tMeterScore\").text"
   ]
  },
  {
   "cell_type": "code",
   "execution_count": 12,
   "id": "94cf3618",
   "metadata": {},
   "outputs": [
    {
     "data": {
      "text/plain": [
       "<div class=\"mb-movie\"><div class=\"poster_container\"><a href=\"/m/hurt_2021\" rel=\"noopener noreferrer\" target=\"_blank\"><img alt=\"Hurt\" class=\"poster\" src=\"https://resizing.flixster.com/g9KhgX4xQwQdZqapCqI4cclrnP4=/130x0/v1.bTsxMzk5MTQ2NTtqOzE5MTUxOzEyMDA7NzIwMDsxMDgwMA\"/></a></div><div class=\"movie_info\"><a href=\"/m/hurt_2021\" rel=\"noopener noreferrer\" target=\"_blank\"><h3 class=\"movieTitle\">Hurt</h3><div><span class=\"tMeterIcon tiny\"><span class=\"icon tiny fresh\"></span><!-- react-text: 238 --> <!-- /react-text --><span class=\"tMeterScore\"><!-- react-text: 240 -->67<!-- /react-text --><!-- react-text: 241 -->%<!-- /react-text --></span></span></div><p class=\"release-date\"><!-- react-text: 243 -->Available <!-- /react-text --><!-- react-text: 244 -->Dec 10<!-- /react-text --></p></a></div></div>"
      ]
     },
     "execution_count": 12,
     "metadata": {},
     "output_type": "execute_result"
    }
   ],
   "source": [
    "movie_list[0]"
   ]
  },
  {
   "cell_type": "code",
   "execution_count": 13,
   "id": "d4a617eb",
   "metadata": {},
   "outputs": [
    {
     "data": {
      "text/plain": [
       "'Available Dec 10'"
      ]
     },
     "execution_count": 13,
     "metadata": {},
     "output_type": "execute_result"
    }
   ],
   "source": [
    "movie_list[0].find(\"p\",class_=\"release-date\").text"
   ]
  },
  {
   "cell_type": "code",
   "execution_count": 15,
   "id": "e5bac677",
   "metadata": {},
   "outputs": [
    {
     "data": {
      "text/plain": [
       "'/m/hurt_2021'"
      ]
     },
     "execution_count": 15,
     "metadata": {},
     "output_type": "execute_result"
    }
   ],
   "source": [
    "movie_list[0].find(\"a\")[\"href\"]"
   ]
  },
  {
   "cell_type": "code",
   "execution_count": 16,
   "id": "0ea71e0b",
   "metadata": {},
   "outputs": [],
   "source": [
    "title = []\n",
    "score = []\n",
    "month_day = []\n",
    "year = []\n",
    "for movie in movie_list:\n",
    "    title.append(movie.find(\"h3\",class_=\"movieTitle\").text)\n",
    "    score.append(movie.find(\"span\",class_=\"tMeterScore\").text)\n",
    "    month_day.append(movie.find(\"p\",class_=\"release-date\").text)\n",
    "    year.append(movie.find(\"a\")[\"href\"])"
   ]
  },
  {
   "cell_type": "code",
   "execution_count": 17,
   "id": "5437fffc",
   "metadata": {},
   "outputs": [
    {
     "data": {
      "text/plain": [
       "['Hurt',\n",
       " 'Benedetta',\n",
       " 'Last Words',\n",
       " 'Death of a Telemarketer',\n",
       " 'Maybe This Year',\n",
       " 'A Cops and Robbers Story',\n",
       " 'Try Harder!',\n",
       " 'President',\n",
       " 'The Scary of Sixty-First',\n",
       " 'Wheel of Fortune and Fantasy',\n",
       " 'Sensation',\n",
       " 'Red Snow',\n",
       " 'June Again',\n",
       " 'The Novice',\n",
       " 'See For Me',\n",
       " 'Together',\n",
       " 'Even Mice Belong in Heaven',\n",
       " 'The United States of Insanity',\n",
       " 'Famous',\n",
       " 'Lotawana',\n",
       " 'Redeeming Love',\n",
       " 'Salt in My Soul',\n",
       " 'The Hating Game',\n",
       " 'Fortress',\n",
       " 'The Free Fall',\n",
       " 'Shattered',\n",
       " 'The Scrapper',\n",
       " 'Joy Womack: The White Swan',\n",
       " 'The Only One (Horse Latitudes)',\n",
       " 'The Last Son',\n",
       " 'The Legend of La Llorona',\n",
       " 'The Laureate']"
      ]
     },
     "execution_count": 17,
     "metadata": {},
     "output_type": "execute_result"
    }
   ],
   "source": [
    "title"
   ]
  },
  {
   "cell_type": "code",
   "execution_count": 18,
   "id": "55ca401b",
   "metadata": {},
   "outputs": [
    {
     "data": {
      "text/plain": [
       "['67%',\n",
       " '86%',\n",
       " '40%',\n",
       " '13%',\n",
       " '78%',\n",
       " '67%',\n",
       " '97%',\n",
       " '92%',\n",
       " '57%',\n",
       " '99%',\n",
       " '13%',\n",
       " '75%',\n",
       " '100%',\n",
       " '92%',\n",
       " '78%',\n",
       " '71%',\n",
       " '100%',\n",
       " '100%',\n",
       " '100%',\n",
       " '100%',\n",
       " '11%',\n",
       " '100%',\n",
       " '71%',\n",
       " '20%',\n",
       " '57%',\n",
       " '19%',\n",
       " '86%',\n",
       " '100%',\n",
       " '80%',\n",
       " '25%',\n",
       " '8%',\n",
       " '60%']"
      ]
     },
     "execution_count": 18,
     "metadata": {},
     "output_type": "execute_result"
    }
   ],
   "source": [
    "score"
   ]
  },
  {
   "cell_type": "code",
   "execution_count": 19,
   "id": "9fdd2b36",
   "metadata": {},
   "outputs": [],
   "source": [
    "title_test = pd.DataFrame(title)"
   ]
  },
  {
   "cell_type": "code",
   "execution_count": 20,
   "id": "888e265c",
   "metadata": {},
   "outputs": [
    {
     "data": {
      "text/html": [
       "<div>\n",
       "<style scoped>\n",
       "    .dataframe tbody tr th:only-of-type {\n",
       "        vertical-align: middle;\n",
       "    }\n",
       "\n",
       "    .dataframe tbody tr th {\n",
       "        vertical-align: top;\n",
       "    }\n",
       "\n",
       "    .dataframe thead th {\n",
       "        text-align: right;\n",
       "    }\n",
       "</style>\n",
       "<table border=\"1\" class=\"dataframe\">\n",
       "  <thead>\n",
       "    <tr style=\"text-align: right;\">\n",
       "      <th></th>\n",
       "      <th>0</th>\n",
       "    </tr>\n",
       "  </thead>\n",
       "  <tbody>\n",
       "    <tr>\n",
       "      <th>0</th>\n",
       "      <td>Hurt</td>\n",
       "    </tr>\n",
       "    <tr>\n",
       "      <th>1</th>\n",
       "      <td>Benedetta</td>\n",
       "    </tr>\n",
       "    <tr>\n",
       "      <th>2</th>\n",
       "      <td>Last Words</td>\n",
       "    </tr>\n",
       "    <tr>\n",
       "      <th>3</th>\n",
       "      <td>Death of a Telemarketer</td>\n",
       "    </tr>\n",
       "    <tr>\n",
       "      <th>4</th>\n",
       "      <td>Maybe This Year</td>\n",
       "    </tr>\n",
       "  </tbody>\n",
       "</table>\n",
       "</div>"
      ],
      "text/plain": [
       "                         0\n",
       "0                     Hurt\n",
       "1                Benedetta\n",
       "2               Last Words\n",
       "3  Death of a Telemarketer\n",
       "4          Maybe This Year"
      ]
     },
     "execution_count": 20,
     "metadata": {},
     "output_type": "execute_result"
    }
   ],
   "source": [
    "title_test.head()"
   ]
  },
  {
   "cell_type": "code",
   "execution_count": 21,
   "id": "127ea9fe",
   "metadata": {},
   "outputs": [],
   "source": [
    "score_test = pd.DataFrame(score)"
   ]
  },
  {
   "cell_type": "code",
   "execution_count": 22,
   "id": "6505599f",
   "metadata": {},
   "outputs": [
    {
     "data": {
      "text/html": [
       "<div>\n",
       "<style scoped>\n",
       "    .dataframe tbody tr th:only-of-type {\n",
       "        vertical-align: middle;\n",
       "    }\n",
       "\n",
       "    .dataframe tbody tr th {\n",
       "        vertical-align: top;\n",
       "    }\n",
       "\n",
       "    .dataframe thead th {\n",
       "        text-align: right;\n",
       "    }\n",
       "</style>\n",
       "<table border=\"1\" class=\"dataframe\">\n",
       "  <thead>\n",
       "    <tr style=\"text-align: right;\">\n",
       "      <th></th>\n",
       "      <th>0</th>\n",
       "    </tr>\n",
       "  </thead>\n",
       "  <tbody>\n",
       "    <tr>\n",
       "      <th>0</th>\n",
       "      <td>67%</td>\n",
       "    </tr>\n",
       "    <tr>\n",
       "      <th>1</th>\n",
       "      <td>86%</td>\n",
       "    </tr>\n",
       "    <tr>\n",
       "      <th>2</th>\n",
       "      <td>40%</td>\n",
       "    </tr>\n",
       "    <tr>\n",
       "      <th>3</th>\n",
       "      <td>13%</td>\n",
       "    </tr>\n",
       "    <tr>\n",
       "      <th>4</th>\n",
       "      <td>78%</td>\n",
       "    </tr>\n",
       "  </tbody>\n",
       "</table>\n",
       "</div>"
      ],
      "text/plain": [
       "     0\n",
       "0  67%\n",
       "1  86%\n",
       "2  40%\n",
       "3  13%\n",
       "4  78%"
      ]
     },
     "execution_count": 22,
     "metadata": {},
     "output_type": "execute_result"
    }
   ],
   "source": [
    "score_test.head()"
   ]
  },
  {
   "cell_type": "code",
   "execution_count": 24,
   "id": "42b82fbd",
   "metadata": {},
   "outputs": [],
   "source": [
    "monthday_test = pd.DataFrame(month_day)"
   ]
  },
  {
   "cell_type": "code",
   "execution_count": 25,
   "id": "83cf32cb",
   "metadata": {},
   "outputs": [
    {
     "data": {
      "text/html": [
       "<div>\n",
       "<style scoped>\n",
       "    .dataframe tbody tr th:only-of-type {\n",
       "        vertical-align: middle;\n",
       "    }\n",
       "\n",
       "    .dataframe tbody tr th {\n",
       "        vertical-align: top;\n",
       "    }\n",
       "\n",
       "    .dataframe thead th {\n",
       "        text-align: right;\n",
       "    }\n",
       "</style>\n",
       "<table border=\"1\" class=\"dataframe\">\n",
       "  <thead>\n",
       "    <tr style=\"text-align: right;\">\n",
       "      <th></th>\n",
       "      <th>0</th>\n",
       "    </tr>\n",
       "  </thead>\n",
       "  <tbody>\n",
       "    <tr>\n",
       "      <th>0</th>\n",
       "      <td>Available Dec 10</td>\n",
       "    </tr>\n",
       "    <tr>\n",
       "      <th>1</th>\n",
       "      <td>Available Dec 21</td>\n",
       "    </tr>\n",
       "    <tr>\n",
       "      <th>2</th>\n",
       "      <td>Available Dec 17</td>\n",
       "    </tr>\n",
       "    <tr>\n",
       "      <th>3</th>\n",
       "      <td>Available Dec 3</td>\n",
       "    </tr>\n",
       "    <tr>\n",
       "      <th>4</th>\n",
       "      <td>Available Dec 7</td>\n",
       "    </tr>\n",
       "  </tbody>\n",
       "</table>\n",
       "</div>"
      ],
      "text/plain": [
       "                  0\n",
       "0  Available Dec 10\n",
       "1  Available Dec 21\n",
       "2  Available Dec 17\n",
       "3   Available Dec 3\n",
       "4   Available Dec 7"
      ]
     },
     "execution_count": 25,
     "metadata": {},
     "output_type": "execute_result"
    }
   ],
   "source": [
    "monthday_test.head()"
   ]
  },
  {
   "cell_type": "code",
   "execution_count": 26,
   "id": "a787b95d",
   "metadata": {},
   "outputs": [
    {
     "data": {
      "text/html": [
       "<div>\n",
       "<style scoped>\n",
       "    .dataframe tbody tr th:only-of-type {\n",
       "        vertical-align: middle;\n",
       "    }\n",
       "\n",
       "    .dataframe tbody tr th {\n",
       "        vertical-align: top;\n",
       "    }\n",
       "\n",
       "    .dataframe thead th {\n",
       "        text-align: right;\n",
       "    }\n",
       "</style>\n",
       "<table border=\"1\" class=\"dataframe\">\n",
       "  <thead>\n",
       "    <tr style=\"text-align: right;\">\n",
       "      <th></th>\n",
       "      <th>0</th>\n",
       "    </tr>\n",
       "  </thead>\n",
       "  <tbody>\n",
       "    <tr>\n",
       "      <th>0</th>\n",
       "      <td>/m/hurt_2021</td>\n",
       "    </tr>\n",
       "    <tr>\n",
       "      <th>1</th>\n",
       "      <td>/m/benedetta</td>\n",
       "    </tr>\n",
       "    <tr>\n",
       "      <th>2</th>\n",
       "      <td>/m/last_words</td>\n",
       "    </tr>\n",
       "    <tr>\n",
       "      <th>3</th>\n",
       "      <td>/m/death_of_a_telemarketer</td>\n",
       "    </tr>\n",
       "    <tr>\n",
       "      <th>4</th>\n",
       "      <td>/m/maybe_this_year</td>\n",
       "    </tr>\n",
       "  </tbody>\n",
       "</table>\n",
       "</div>"
      ],
      "text/plain": [
       "                            0\n",
       "0                /m/hurt_2021\n",
       "1                /m/benedetta\n",
       "2               /m/last_words\n",
       "3  /m/death_of_a_telemarketer\n",
       "4          /m/maybe_this_year"
      ]
     },
     "execution_count": 26,
     "metadata": {},
     "output_type": "execute_result"
    }
   ],
   "source": [
    "year_test = pd.DataFrame(year)\n",
    "year_test.head()"
   ]
  },
  {
   "cell_type": "code",
   "execution_count": null,
   "id": "1720828e",
   "metadata": {},
   "outputs": [],
   "source": []
  }
 ],
 "metadata": {
  "kernelspec": {
   "display_name": "Python 3 (ipykernel)",
   "language": "python",
   "name": "python3"
  },
  "language_info": {
   "codemirror_mode": {
    "name": "ipython",
    "version": 3
   },
   "file_extension": ".py",
   "mimetype": "text/x-python",
   "name": "python",
   "nbconvert_exporter": "python",
   "pygments_lexer": "ipython3",
   "version": "3.9.7"
  }
 },
 "nbformat": 4,
 "nbformat_minor": 5
}
